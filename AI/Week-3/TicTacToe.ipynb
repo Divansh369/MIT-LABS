{
  "cells": [
    {
      "cell_type": "markdown",
      "source": [
        "# Divansh Prasad (210968140) Week-3 AI Lab"
      ],
      "metadata": {},
      "id": "334254bb"
    },
    {
      "cell_type": "markdown",
      "source": [
        "## Exercises\n",
        "\n",
        "EasyAI is an artificial intelligence framework for two-players abstract games. Read\n",
        "through the documentation.\\\n",
        "http://zulko.github.io/easyAI/index.html/\n",
        "Write a python program to define and implement a tic—tac-toe game with one human\n",
        "player. \\\n",
        "Solve the game using the built in algorithms and compare the solutions:\\\n",
        "    1. Iterative Deepening \\\n",
        "    2. Depth first search"
      ],
      "metadata": {},
      "id": "2787d272"
    },
    {
      "cell_type": "markdown",
      "source": [
        "## Importing Libraries"
      ],
      "metadata": {},
      "id": "622a045a"
    },
    {
      "cell_type": "code",
      "source": [
        "import easyAI\n",
        "from easyAI import TwoPlayerGame\n",
        "from easyAI.Player import Human_Player\n",
        "from easyAI import AI_Player, Negamax\n",
        "from easyAI import solve_with_iterative_deepening, solve_with_depth_first_search\n",
        "import time"
      ],
      "outputs": [],
      "execution_count": 18,
      "metadata": {},
      "id": "9205f163"
    },
    {
      "cell_type": "markdown",
      "source": [
        "## Creating Tic-Tac-Toe Game"
      ],
      "metadata": {},
      "id": "d1d7115f"
    },
    {
      "cell_type": "code",
      "source": [
        "class TicTacToe( TwoPlayerGame ):\n",
        "    \"\"\" The board positions are numbered as follows:\n",
        "            1 2 3\n",
        "            4 5 6\n",
        "            7 8 9\n",
        "    \"\"\"    \n",
        "    def __init__(self, players):\n",
        "        self.players = players\n",
        "        self.board = [0 for i in range(9)]\n",
        "        self.nplayer = 1\n",
        "        self.nopponent = 3-self.nplayer\n",
        "        self.current_player=1\n",
        "        \n",
        "    def possible_moves(self):\n",
        "        return [i+1 for i,e in enumerate(self.board) if e==0]\n",
        "    \n",
        "    def make_move(self, move):\n",
        "        self.board[int(move)-1] = self.nplayer\n",
        "        self.nplayer=3-self.nplayer\n",
        "\n",
        "#     def unmake_move(self, move): # optional method (speeds up the AI)\n",
        "#         self.board[int(move)-1] = 0\n",
        "    \n",
        "    def lose(self):\n",
        "        \"\"\" Has the opponent \"three in line ?\" \"\"\"\n",
        "        return any( [all([(self.board[c-1]== self.current_player)\n",
        "                      for c in line])\n",
        "                      for line in [[1,2,3],[4,5,6],[7,8,9], # horiz.\n",
        "                                   [1,4,7],[2,5,8],[3,6,9], # vertical\n",
        "                                   [1,5,9],[3,5,7]]]) # diagonal\n",
        "        \n",
        "    def is_over(self):\n",
        "        return (self.possible_moves() == []) or self.lose()\n",
        "        \n",
        "    def show(self):\n",
        "        print ('\\n'+'\\n'.join([\n",
        "                        ' '.join([['.','O','X'][self.board[3*j+i]]\n",
        "                        for i in range(3)])\n",
        "                 for j in range(3)]) )\n",
        "                 \n",
        "    def scoring(self):\n",
        "        return -100 if self.lose() else 0"
      ],
      "outputs": [],
      "execution_count": 7,
      "metadata": {},
      "id": "e3a9cb35"
    },
    {
      "cell_type": "code",
      "source": [
        "def main(algo):\n",
        "    ai = Negamax(9)\n",
        "    if algo == 'id':\n",
        "        result = solve_with_iterative_deepening(game=TicTacToe(players=[AI_Player(ai), Human_Player()]), ai_depths=range(2, 10), win_score=100)\n",
        "    elif algo == 'dfs':\n",
        "        result = solve_with_depth_first_search(game=TicTacToe(players=[AI_Player(ai), Human_Player()]), win_score=100)\n",
        "    else:\n",
        "        print(\"Invalid algorithm.\")\n",
        "    return result"
      ],
      "outputs": [],
      "execution_count": 22,
      "metadata": {},
      "id": "13b71f7f"
    },
    {
      "cell_type": "markdown",
      "source": [
        "### 1. Analyzing solution provided by Iterative Deepening."
      ],
      "metadata": {},
      "id": "58c5abf8"
    },
    {
      "cell_type": "code",
      "source": [
        "start = time.time()\n",
        "idres = main('id')\n",
        "end = time.time()\n",
        "print('Result: ', idres)\n",
        "print(str.format('Time Taken: {:.2f}s', end-start))"
      ],
      "outputs": [
        {
          "output_type": "stream",
          "name": "stdout",
          "text": "d:2, a:0, m:1\nd:3, a:0, m:1\nd:4, a:0, m:1\nd:5, a:0, m:1\nd:6, a:0, m:1\nd:7, a:0, m:1\nd:8, a:0, m:1\nd:9, a:0, m:1\nResult:  (0, 9, 1)\nTime Taken: 0.62s\n"
        }
      ],
      "execution_count": 23,
      "metadata": {},
      "id": "d4bccfc3"
    },
    {
      "cell_type": "markdown",
      "source": [
        "### 2. Analyzing solution provided by Depth First Search."
      ],
      "metadata": {},
      "id": "0ce3e249"
    },
    {
      "cell_type": "code",
      "source": [
        "start = time.time()\n",
        "dfsres = main('dfs')\n",
        "end = time.time()\n",
        "print('Result: ', dfsres)\n",
        "print(str.format('Time Taken: {:.2f}s', end-start))"
      ],
      "outputs": [
        {
          "output_type": "stream",
          "name": "stdout",
          "text": "Result:  0\nTime Taken: 20.38s\n"
        }
      ],
      "execution_count": 24,
      "metadata": {},
      "id": "756550f2"
    },
    {
      "cell_type": "markdown",
      "source": [
        "### Clearly, Iterative Deepening works much better than Depth First Search."
      ],
      "metadata": {},
      "id": "38b9cd5c"
    },
    {
      "cell_type": "markdown",
      "source": [
        "#  AI VS Human "
      ],
      "metadata": {},
      "id": "ff90dbb0"
    },
    {
      "cell_type": "code",
      "source": [
        "ai_algo = Negamax(9)\n",
        "TicTacToe( [Human_Player(),AI_Player(ai_algo)]).play()"
      ],
      "outputs": [
        {
          "output_type": "stream",
          "name": "stdout",
          "text": "\n. . .\n. . .\n. . .\n\nPlayer 1 what do you play ? 1\n\nMove #1: player 1 plays 1 :\n\nO . .\n. . .\n. . .\n\nMove #2: player 2 plays 2 :\n\nO X .\n. . .\n. . .\n\nPlayer 1 what do you play ? 5\n\nMove #3: player 1 plays 5 :\n\nO X .\n. O .\n. . .\n\nMove #4: player 2 plays 3 :\n\nO X X\n. O .\n. . .\n\nPlayer 1 what do you play ? 9\n\nMove #5: player 1 plays 9 :\n\nO X X\n. O .\n. . O\n\nMove #6: player 2 plays 4 :\n\nO X X\nX O .\n. . O\n"
        },
        {
          "output_type": "execute_result",
          "execution_count": 16,
          "data": {
            "text/plain": "[(<__main__.TicTacToe at 0x236870729a0>, 1),\n (<__main__.TicTacToe at 0x23687072340>, 2),\n (<__main__.TicTacToe at 0x23687072b20>, 5),\n (<__main__.TicTacToe at 0x236870732b0>, 3),\n (<__main__.TicTacToe at 0x23687072f70>, 9),\n (<__main__.TicTacToe at 0x236870738e0>, 4),\n <__main__.TicTacToe at 0x23687073eb0>]"
          },
          "metadata": {}
        }
      ],
      "execution_count": 16,
      "metadata": {},
      "id": "7a0f2cdf"
    },
    {
      "cell_type": "markdown",
      "source": [
        "# Human VS Human"
      ],
      "metadata": {},
      "id": "f03cf5cd"
    },
    {
      "cell_type": "code",
      "source": [
        "TicTacToe( [Human_Player(),Human_Player()]).play()"
      ],
      "outputs": [
        {
          "output_type": "stream",
          "name": "stdout",
          "text": "\n. . .\n. . .\n. . .\n\nPlayer 1 what do you play ? 1\n\nMove #1: player 1 plays 1 :\n\nO . .\n. . .\n. . .\n\nPlayer 2 what do you play ? 5\n\nMove #2: player 2 plays 5 :\n\nO . .\n. X .\n. . .\n\nPlayer 1 what do you play ? 3\n\nMove #3: player 1 plays 3 :\n\nO . O\n. X .\n. . .\n\nPlayer 2 what do you play ? 2\n\nMove #4: player 2 plays 2 :\n\nO X O\n. X .\n. . .\n\nPlayer 1 what do you play ? 8\n\nMove #5: player 1 plays 8 :\n\nO X O\n. X .\n. O .\n\nPlayer 2 what do you play ? 6\n\nMove #6: player 2 plays 6 :\n\nO X O\n. X X\n. O .\n\nPlayer 1 what do you play ? 4\n\nMove #7: player 1 plays 4 :\n\nO X O\nO X X\n. O .\n\nPlayer 2 what do you play ? 7\n\nMove #8: player 2 plays 7 :\n\nO X O\nO X X\nX O .\n\nPlayer 1 what do you play ? 9\n\nMove #9: player 1 plays 9 :\n\nO X O\nO X X\nX O O\n"
        },
        {
          "output_type": "execute_result",
          "execution_count": 19,
          "data": {
            "text/plain": "[(<__main__.TicTacToe at 0x236865e0790>, 1),\n (<__main__.TicTacToe at 0x236870731c0>, 5),\n (<__main__.TicTacToe at 0x236865e04c0>, 3),\n (<__main__.TicTacToe at 0x23687079280>, 2),\n (<__main__.TicTacToe at 0x23687079b80>, 8),\n (<__main__.TicTacToe at 0x23687079760>, 6),\n (<__main__.TicTacToe at 0x23687079940>, 4),\n (<__main__.TicTacToe at 0x23687079b20>, 7),\n (<__main__.TicTacToe at 0x23687079fd0>, 9),\n <__main__.TicTacToe at 0x23687027070>]"
          },
          "metadata": {}
        }
      ],
      "execution_count": 19,
      "metadata": {},
      "id": "23c8b15d"
    }
  ],
  "metadata": {
    "kernelspec": {
      "name": "python",
      "language": "python",
      "display_name": "Pyolite (preview)"
    },
    "language_info": {
      "codemirror_mode": {
        "name": "python",
        "version": 3
      },
      "file_extension": ".py",
      "mimetype": "text/x-python",
      "name": "python",
      "nbconvert_exporter": "python",
      "pygments_lexer": "ipython3",
      "version": "3.8"
    },
    "kernel_info": {
      "name": "python"
    },
    "nteract": {
      "version": "nteract-front-end@1.0.0"
    }
  },
  "nbformat": 4,
  "nbformat_minor": 5
}