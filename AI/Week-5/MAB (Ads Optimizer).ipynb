{
 "cells": [
  {
   "cell_type": "markdown",
   "id": "d4a05d10-00a6-441f-8ec8-da346c6885bd",
   "metadata": {},
   "source": [
    "# Divansh Prasad (210968140) Week-5 AI Lab"
   ]
  },
  {
   "cell_type": "markdown",
   "id": "ee7433fc-d775-4320-9c73-3f0596717473",
   "metadata": {},
   "source": [
    "## Exercises\n",
    "Consider the given dataset “Ads_clicks” containing data about which add was clicked in each time step. Suppose an advertising company is running 10 different ads targeted towards a similar set of the population on a webpage. We have results for which ads were clicked by a user. Each column index represents a different ad. We have a 1 if the ad was clicked by a user, and 0 if it was not. \n",
    "\n",
    "a. Write down the MAB agent problem formulation in your own words. \\\n",
    "b. Compute the total rewards after 2000-time steps using the ε-greedy action. a. for ε=0.01, ε=\n",
    "0.3 \\\n",
    "c. Compute the total rewards after 2000-time steps using the Upper-Confidence-Bound action\n",
    "method for c= 1.5 \\\n",
    "d. For all approaches, explain how the action value estimated compares to the optimal action. "
   ]
  },
  {
   "cell_type": "markdown",
   "id": "c748820e-0032-4be3-8943-4cddc32f630b",
   "metadata": {},
   "source": [
    "### a. Write down the MAB agent problem formulation in your own words."
   ]
  },
  {
   "cell_type": "markdown",
   "id": "f12c5450-3be6-417e-a725-5e0475545bb2",
   "metadata": {},
   "source": [
    "The problem agent formulation involves determining the most optimal ad to display to a user at a given time instant to maximize the number of clicks on the webpage.\n",
    "The problem can be defined as :\n",
    "\n",
    "-- There are 10 different ads to choose from, and at each time step, the MAB agent must decide which ad to display to the user.\n",
    "-- Each ad has an unknown click-through rate (CTR) that represents the probability of a user clicking on that ad.\n",
    "\n",
    "-- The MAB agent must balance the exploration of less-known ads to learn their CTRs with the exploitation of the ads that are known to have higher CTRs to maximize the total number of clicks.\n",
    "\n",
    "-- The MAB agent's objective is to learn the true CTR of each ad while minimizing the regret, which is the difference between the expected number of clicks obtained by displaying the best ad and the expected number of clicks obtained by displaying the chosen ad at each time step."
   ]
  },
  {
   "cell_type": "markdown",
   "id": "54eb2bd0",
   "metadata": {},
   "source": [
    "An advertising agency has 10 different ads. They want to find the ad which will get the most clicks by users, and is this most profitable. We need to help the agency in finding the most suited add to maximize the conversions through them."
   ]
  },
  {
   "cell_type": "code",
   "execution_count": 68,
   "id": "546e2404",
   "metadata": {},
   "outputs": [],
   "source": [
    "import matplotlib.pyplot as plt\n",
    "from operator import itemgetter\n",
    "from statistics import mean\n",
    "from random import random\n",
    "import time\n",
    "import pandas as pd\n",
    "import random\n",
    "import numpy as np\n",
    "from numpy import array\n",
    "import gym_bandits\n",
    "import gym"
   ]
  },
  {
   "cell_type": "markdown",
   "id": "06c53030-6acb-4cbe-9385-301680d3b4a5",
   "metadata": {},
   "source": [
    "### Creating Dataframe"
   ]
  },
  {
   "cell_type": "code",
   "execution_count": 75,
   "id": "91d0cd11",
   "metadata": {},
   "outputs": [
    {
     "data": {
      "text/html": [
       "<div>\n",
       "<style scoped>\n",
       "    .dataframe tbody tr th:only-of-type {\n",
       "        vertical-align: middle;\n",
       "    }\n",
       "\n",
       "    .dataframe tbody tr th {\n",
       "        vertical-align: top;\n",
       "    }\n",
       "\n",
       "    .dataframe thead th {\n",
       "        text-align: right;\n",
       "    }\n",
       "</style>\n",
       "<table border=\"1\" class=\"dataframe\">\n",
       "  <thead>\n",
       "    <tr style=\"text-align: right;\">\n",
       "      <th></th>\n",
       "      <th>Ad 1</th>\n",
       "      <th>Ad 2</th>\n",
       "      <th>Ad 3</th>\n",
       "      <th>Ad 4</th>\n",
       "      <th>Ad 5</th>\n",
       "      <th>Ad 6</th>\n",
       "      <th>Ad 7</th>\n",
       "      <th>Ad 8</th>\n",
       "      <th>Ad 9</th>\n",
       "      <th>Ad 10</th>\n",
       "    </tr>\n",
       "  </thead>\n",
       "  <tbody>\n",
       "    <tr>\n",
       "      <th>0</th>\n",
       "      <td>1</td>\n",
       "      <td>0</td>\n",
       "      <td>0</td>\n",
       "      <td>0</td>\n",
       "      <td>1</td>\n",
       "      <td>0</td>\n",
       "      <td>0</td>\n",
       "      <td>0</td>\n",
       "      <td>1</td>\n",
       "      <td>0</td>\n",
       "    </tr>\n",
       "    <tr>\n",
       "      <th>1</th>\n",
       "      <td>0</td>\n",
       "      <td>0</td>\n",
       "      <td>0</td>\n",
       "      <td>0</td>\n",
       "      <td>0</td>\n",
       "      <td>0</td>\n",
       "      <td>0</td>\n",
       "      <td>0</td>\n",
       "      <td>1</td>\n",
       "      <td>0</td>\n",
       "    </tr>\n",
       "    <tr>\n",
       "      <th>2</th>\n",
       "      <td>0</td>\n",
       "      <td>0</td>\n",
       "      <td>0</td>\n",
       "      <td>0</td>\n",
       "      <td>0</td>\n",
       "      <td>0</td>\n",
       "      <td>0</td>\n",
       "      <td>0</td>\n",
       "      <td>0</td>\n",
       "      <td>0</td>\n",
       "    </tr>\n",
       "    <tr>\n",
       "      <th>3</th>\n",
       "      <td>0</td>\n",
       "      <td>1</td>\n",
       "      <td>0</td>\n",
       "      <td>0</td>\n",
       "      <td>0</td>\n",
       "      <td>0</td>\n",
       "      <td>0</td>\n",
       "      <td>1</td>\n",
       "      <td>0</td>\n",
       "      <td>0</td>\n",
       "    </tr>\n",
       "    <tr>\n",
       "      <th>4</th>\n",
       "      <td>0</td>\n",
       "      <td>0</td>\n",
       "      <td>0</td>\n",
       "      <td>0</td>\n",
       "      <td>0</td>\n",
       "      <td>0</td>\n",
       "      <td>0</td>\n",
       "      <td>0</td>\n",
       "      <td>0</td>\n",
       "      <td>0</td>\n",
       "    </tr>\n",
       "    <tr>\n",
       "      <th>...</th>\n",
       "      <td>...</td>\n",
       "      <td>...</td>\n",
       "      <td>...</td>\n",
       "      <td>...</td>\n",
       "      <td>...</td>\n",
       "      <td>...</td>\n",
       "      <td>...</td>\n",
       "      <td>...</td>\n",
       "      <td>...</td>\n",
       "      <td>...</td>\n",
       "    </tr>\n",
       "    <tr>\n",
       "      <th>9995</th>\n",
       "      <td>0</td>\n",
       "      <td>0</td>\n",
       "      <td>1</td>\n",
       "      <td>0</td>\n",
       "      <td>0</td>\n",
       "      <td>0</td>\n",
       "      <td>0</td>\n",
       "      <td>1</td>\n",
       "      <td>0</td>\n",
       "      <td>0</td>\n",
       "    </tr>\n",
       "    <tr>\n",
       "      <th>9996</th>\n",
       "      <td>0</td>\n",
       "      <td>0</td>\n",
       "      <td>0</td>\n",
       "      <td>0</td>\n",
       "      <td>0</td>\n",
       "      <td>0</td>\n",
       "      <td>0</td>\n",
       "      <td>0</td>\n",
       "      <td>0</td>\n",
       "      <td>0</td>\n",
       "    </tr>\n",
       "    <tr>\n",
       "      <th>9997</th>\n",
       "      <td>0</td>\n",
       "      <td>0</td>\n",
       "      <td>0</td>\n",
       "      <td>0</td>\n",
       "      <td>0</td>\n",
       "      <td>0</td>\n",
       "      <td>0</td>\n",
       "      <td>0</td>\n",
       "      <td>0</td>\n",
       "      <td>0</td>\n",
       "    </tr>\n",
       "    <tr>\n",
       "      <th>9998</th>\n",
       "      <td>1</td>\n",
       "      <td>0</td>\n",
       "      <td>0</td>\n",
       "      <td>0</td>\n",
       "      <td>0</td>\n",
       "      <td>0</td>\n",
       "      <td>0</td>\n",
       "      <td>1</td>\n",
       "      <td>0</td>\n",
       "      <td>0</td>\n",
       "    </tr>\n",
       "    <tr>\n",
       "      <th>9999</th>\n",
       "      <td>0</td>\n",
       "      <td>1</td>\n",
       "      <td>0</td>\n",
       "      <td>0</td>\n",
       "      <td>0</td>\n",
       "      <td>0</td>\n",
       "      <td>0</td>\n",
       "      <td>0</td>\n",
       "      <td>0</td>\n",
       "      <td>0</td>\n",
       "    </tr>\n",
       "  </tbody>\n",
       "</table>\n",
       "<p>10000 rows × 10 columns</p>\n",
       "</div>"
      ],
      "text/plain": [
       "      Ad 1  Ad 2  Ad 3  Ad 4  Ad 5  Ad 6  Ad 7  Ad 8  Ad 9  Ad 10\n",
       "0        1     0     0     0     1     0     0     0     1      0\n",
       "1        0     0     0     0     0     0     0     0     1      0\n",
       "2        0     0     0     0     0     0     0     0     0      0\n",
       "3        0     1     0     0     0     0     0     1     0      0\n",
       "4        0     0     0     0     0     0     0     0     0      0\n",
       "...    ...   ...   ...   ...   ...   ...   ...   ...   ...    ...\n",
       "9995     0     0     1     0     0     0     0     1     0      0\n",
       "9996     0     0     0     0     0     0     0     0     0      0\n",
       "9997     0     0     0     0     0     0     0     0     0      0\n",
       "9998     1     0     0     0     0     0     0     1     0      0\n",
       "9999     0     1     0     0     0     0     0     0     0      0\n",
       "\n",
       "[10000 rows x 10 columns]"
      ]
     },
     "execution_count": 75,
     "metadata": {},
     "output_type": "execute_result"
    }
   ],
   "source": [
    "ads_clicks=pd.read_csv(\"Week-5/Ads_Clicks.csv\")\n",
    "ads_clicks"
   ]
  },
  {
   "cell_type": "markdown",
   "id": "18e5a1d2-c82d-4f7e-ad2d-58376a6d47b8",
   "metadata": {},
   "source": [
    "### Checking for null values"
   ]
  },
  {
   "cell_type": "code",
   "execution_count": 37,
   "id": "a389379f",
   "metadata": {},
   "outputs": [
    {
     "data": {
      "text/plain": [
       "Ad 1     0\n",
       "Ad 2     0\n",
       "Ad 3     0\n",
       "Ad 4     0\n",
       "Ad 5     0\n",
       "Ad 6     0\n",
       "Ad 7     0\n",
       "Ad 8     0\n",
       "Ad 9     0\n",
       "Ad 10    0\n",
       "dtype: int64"
      ]
     },
     "execution_count": 37,
     "metadata": {},
     "output_type": "execute_result"
    }
   ],
   "source": [
    "ads_clicks.isna().sum()"
   ]
  },
  {
   "cell_type": "markdown",
   "id": "d9de675f-1d61-45af-9cbd-da4a659b8ca0",
   "metadata": {},
   "source": [
    "### b. Compute the total rewards after 2000-time steps using the ε-greedy action. a. for ε=0.01, ε= 0.3"
   ]
  },
  {
   "cell_type": "code",
   "execution_count": 88,
   "id": "63af7461-fb05-41df-b31c-84c685e0dee9",
   "metadata": {},
   "outputs": [],
   "source": [
    "# Initialize the rewards for each ad to 0 and create an empty list to store the rewards for each time step:\n",
    "rewards = [0] * 10\n",
    "total_rewards_01 = []\n",
    "total_rewards_03 = []\n",
    "num_ads=10"
   ]
  },
  {
   "cell_type": "code",
   "execution_count": 84,
   "id": "c56816ed-48bd-46d8-a58d-9c24cbee42d9",
   "metadata": {},
   "outputs": [],
   "source": [
    " #ε-greedy algorithm\n",
    "def epsilon_greedy(epsilon, rewards):\n",
    "    if random.uniform(0, 1) < epsilon:\n",
    "        # Explore: Choose a random ad\n",
    "        ad = random.randint(0, num_ads - 1)\n",
    "    else:\n",
    "        # Exploit: Choose the ad with the highest reward\n",
    "        ad = np.argmax(rewards)\n",
    "    return ad"
   ]
  },
  {
   "cell_type": "code",
   "execution_count": 85,
   "id": "d56902ca-5fab-4609-a3aa-3a609217c249",
   "metadata": {},
   "outputs": [
    {
     "name": "stderr",
     "output_type": "stream",
     "text": [
      "/tmp/ipykernel_6760/3816555201.py:13: FutureWarning: Series.__getitem__ treating keys as positions is deprecated. In a future version, integer keys will always be treated as labels (consistent with DataFrame behavior). To access a value by position, use `ser.iloc[pos]`\n",
      "  reward = ads_clicks.iloc[t][ad_01]\n",
      "/tmp/ipykernel_6760/3816555201.py:21: FutureWarning: Series.__getitem__ treating keys as positions is deprecated. In a future version, integer keys will always be treated as labels (consistent with DataFrame behavior). To access a value by position, use `ser.iloc[pos]`\n",
      "  reward = ads_clicks.iloc[t][ad_03]\n"
     ]
    }
   ],
   "source": [
    "# Iterating the ε-greedy algorithm for 2000 time steps using ε=0.01 and ε=0.3\n",
    "\n",
    "for t in range(2000):\n",
    "\n",
    "    # Choosing ad using the epsilon-greedy algorithm with epsilon=0.01\n",
    "    ad_01 = epsilon_greedy(0.01, rewards)\n",
    "\n",
    "    # Choose the ad using the epsilon-greedy algorithm with epsilon=0.3\n",
    "    ad_03 = epsilon_greedy(0.3, rewards)\n",
    "\n",
    "    # for epsilon = 0.01\n",
    "    # reward for the chosen ad\n",
    "    reward = ads_clicks.iloc[t][ad_01]\n",
    "    # Updating rewards for the chosen ad\n",
    "    rewards[ad_01] = rewards[ad_01] + reward\n",
    "    # Add the reward to the total rewards list for epsilon=0.01\n",
    "    total_rewards_01.append(sum(rewards))\n",
    "\n",
    "    # for epsilon = 0.3\n",
    "    # reward for the chosen ad\n",
    "    reward = ads_clicks.iloc[t][ad_03]\n",
    "    # Updating rewards for the chosen ad\n",
    "    rewards[ad_03] = rewards[ad_03] + reward\n",
    "    # Add the reward to the total rewards list for epsilon=0.3\n",
    "    total_rewards_03.append(sum(rewards))"
   ]
  },
  {
   "cell_type": "code",
   "execution_count": 87,
   "id": "bfd4b8e1-72bf-4d7a-9db7-a699f992f29a",
   "metadata": {},
   "outputs": [
    {
     "name": "stdout",
     "output_type": "stream",
     "text": [
      "Total rewards for ε=0.01:  643\n",
      "Total rewards for ε=0.3:  643\n"
     ]
    }
   ],
   "source": [
    "print(\"Total rewards for ε=0.01: \", total_rewards_01[-1])\n",
    "print(\"Total rewards for ε=0.3: \", total_rewards_03[-1])"
   ]
  },
  {
   "cell_type": "markdown",
   "id": "51a5a208",
   "metadata": {},
   "source": [
    "The total_reward for UCB comes out to be 2125. Clearly, this is much better than random selection and indeed a smart exploration technique that can significantly improve our strategy to solve a MABP.\n",
    "\n",
    "After just 1500 trials, UCB is already favouring Ad #5 (index 4) which happens to be the optimal ad, and gets the maximum return for the given problem."
   ]
  },
  {
   "cell_type": "markdown",
   "id": "1e5a94ba-df79-4e43-9e27-d864983e2cc9",
   "metadata": {},
   "source": [
    "### c. Compute the total rewards after 2000-time steps using the Upper-Confidence-Bound action method for c= 1.5 "
   ]
  },
  {
   "cell_type": "code",
   "execution_count": 89,
   "id": "3e06b314-6628-41de-ab62-eaa86ca36421",
   "metadata": {},
   "outputs": [],
   "source": [
    "# Initialize the rewards for each ad to 0 and create an empty list to store the rewards for each time step:\n",
    "rewards = np.zeros(num_ads)\n",
    "n = np.zeros(num_ads)\n",
    "total_rewards = []"
   ]
  },
  {
   "cell_type": "code",
   "execution_count": 90,
   "id": "073e59df-9ffb-4e8b-883f-0c5d0514bf92",
   "metadata": {},
   "outputs": [],
   "source": [
    "# Upper-Confidence-Bound algorithm\n",
    "def ucb(rewards, n, t, c=1.5):\n",
    "    # Calculate the average reward for each ad\n",
    "    average_rewards = rewards / n\n",
    "    # Calculate the upper confidence bound for each ad\n",
    "    ucb_values = average_rewards + c * np.sqrt(np.log(t + 1) / n)\n",
    "    # Choose the ad with the highest UCB value\n",
    "    ad = np.argmax(ucb_values)\n",
    "    return ad"
   ]
  },
  {
   "cell_type": "code",
   "execution_count": 91,
   "id": "277fcb13-5bd7-42b7-b758-72780059a2ef",
   "metadata": {},
   "outputs": [
    {
     "name": "stdout",
     "output_type": "stream",
     "text": [
      "Total rewards for c=1.5:  323.0\n"
     ]
    },
    {
     "name": "stderr",
     "output_type": "stream",
     "text": [
      "/tmp/ipykernel_6760/3941024938.py:4: RuntimeWarning: invalid value encountered in divide\n",
      "  average_rewards = rewards / n\n",
      "/tmp/ipykernel_6760/3941024938.py:6: RuntimeWarning: invalid value encountered in divide\n",
      "  ucb_values = average_rewards + c * np.sqrt(np.log(t + 1) / n)\n",
      "/tmp/ipykernel_6760/413530882.py:7: FutureWarning: Series.__getitem__ treating keys as positions is deprecated. In a future version, integer keys will always be treated as labels (consistent with DataFrame behavior). To access a value by position, use `ser.iloc[pos]`\n",
      "  reward = ads_clicks.iloc[t][ad]\n",
      "/tmp/ipykernel_6760/3941024938.py:6: RuntimeWarning: divide by zero encountered in divide\n",
      "  ucb_values = average_rewards + c * np.sqrt(np.log(t + 1) / n)\n"
     ]
    }
   ],
   "source": [
    "# Iterating over Upper-Confidence-Bound algorithm for 2000 time steps using c=1.5:\n",
    "for t in range(2000):\n",
    "    # Choose the ad using the UCB algorithm\n",
    "    ad = ucb(rewards, n, t, c=1.5)\n",
    "\n",
    "    # Get the reward for the chosen ad\n",
    "    reward = ads_clicks.iloc[t][ad]\n",
    "    # Update the rewards for the chosen ad\n",
    "    rewards[ad] = rewards[ad] + reward\n",
    "    # Update the number of times the ad has been selected\n",
    "    n[ad] = n[ad] + 1\n",
    "    # Add the reward to the total rewards list\n",
    "    total_rewards.append(sum(rewards))\n",
    "\n",
    "# Print the total rewards for c=1.5\n",
    "print(\"Total rewards for c=1.5: \", total_rewards[-1])\n"
   ]
  },
  {
   "cell_type": "markdown",
   "id": "61b4a9af-dcde-42c8-b12d-6e514b38a190",
   "metadata": {},
   "source": [
    "### d.For all approaches, explain how the action value estimated compares to the optimal action\n",
    "Action value estimates for the UCB algorithm with c=1.5 are likely to converge faster to the optimal action compared to the ε-Greedy algorithm with ε=0.01 and ε=0.3"
   ]
  }
 ],
 "metadata": {
  "kernelspec": {
   "display_name": "Python 3 (ipykernel)",
   "language": "python",
   "name": "python3"
  },
  "language_info": {
   "codemirror_mode": {
    "name": "ipython",
    "version": 3
   },
   "file_extension": ".py",
   "mimetype": "text/x-python",
   "name": "python",
   "nbconvert_exporter": "python",
   "pygments_lexer": "ipython3",
   "version": "3.11.5"
  }
 },
 "nbformat": 4,
 "nbformat_minor": 5
}
