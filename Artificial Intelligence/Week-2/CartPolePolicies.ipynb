{
  "cells": [
    {
      "cell_type": "markdown",
      "source": [
        "# AI LAB WEEK-2 Divansh Prasad (210968140)"
      ],
      "metadata": {},
      "id": "dfea1827"
    },
    {
      "cell_type": "markdown",
      "source": [
        "# Exercises \n",
        "# QUESTION 2: Use the CartPole-v0 environment\n",
        "The status of the system is specified by an\n",
        "\"observation\" of four parameters (x, v, θ, ω), where\\\n",
        "x: the horizontal position of the cart (positive means to the right)\\\n",
        "v: the horizontal velocity of the cart (positive means moving to the right)\\\n",
        "θ: the angle between the pole and the vertical position (positive means clock wise)\\\n",
        "ω: angular velocity of the pole (positive means rotating clock-wise)\n",
        "\n",
        "Use gym and write the following policies for 100 episodes:\n",
        "1. Theta policy: if the pole is tilted to the left (θ<0), then push the cart to the left and vice versa.\n",
        "2. Omega policy : when the pole is moving away from the vertical position (ω<0) then push the\n",
        "cart to the left and vice versa.\n",
        "3. Plot the cumulative rewards (based on steps) for each policy , write down the average rewards\n",
        "with standard deviation.\n",
        "4. Comment on performance of policies."
      ],
      "metadata": {},
      "id": "2ff8bdc4"
    },
    {
      "cell_type": "code",
      "source": [
        "import gym\n",
        "import numpy as np\n",
        "import matplotlib.pyplot as plt"
      ],
      "outputs": [],
      "execution_count": 1,
      "metadata": {},
      "id": "acf11978"
    },
    {
      "cell_type": "markdown",
      "source": [
        "### 1. Theta policy: If the pole is tilted to the left (θ<0), then push the cart to the left and vice versa."
      ],
      "metadata": {},
      "id": "c6d6cbb0"
    },
    {
      "cell_type": "code",
      "source": [
        "def theta_policy(observation):\n",
        "    if (observation[2]<0):\n",
        "        return 0\n",
        "    else:\n",
        "        return 1"
      ],
      "outputs": [],
      "execution_count": 2,
      "metadata": {},
      "id": "7fbde0f2"
    },
    {
      "cell_type": "markdown",
      "source": [
        "### 2. Omega policy : When the pole is moving away from the vertical position (ω<0) then push the\n",
        "### cart to the left and vice versa."
      ],
      "metadata": {},
      "id": "cd3cb05f"
    },
    {
      "cell_type": "code",
      "source": [
        "def omega_policy(observation):\n",
        "    if (observation[3]<0):\n",
        "        return 0\n",
        "    else:\n",
        "        return 1"
      ],
      "outputs": [],
      "execution_count": 3,
      "metadata": {},
      "id": "c7284350"
    },
    {
      "cell_type": "code",
      "source": [
        "# Running the environment.\n",
        "def run_policy(policy_function, episodes=100):\n",
        "    env = gym.make('CartPole-v0')\n",
        "    rewards = []\n",
        "\n",
        "    for episode in range(episodes):\n",
        "        observation,x = env.reset()\n",
        "        episode_reward = 0\n",
        "\n",
        "        while True:\n",
        "            action = policy_function(observation)\n",
        "            observation, reward, done, _, x = env.step(action)\n",
        "            episode_reward += reward\n",
        "\n",
        "            if done:\n",
        "                break\n",
        "\n",
        "        rewards.append(episode_reward)\n",
        "\n",
        "    env.close()\n",
        "    return rewards"
      ],
      "outputs": [],
      "execution_count": 4,
      "metadata": {},
      "id": "5846bf04"
    },
    {
      "cell_type": "markdown",
      "source": [
        "### 3. Plot the cumulative rewards (based on steps) for each policy , write down the average rewards with standard deviation."
      ],
      "metadata": {},
      "id": "9e98f43b"
    },
    {
      "cell_type": "code",
      "source": [
        "# Plot function for rewards per policy.\n",
        "def plot_rewards(rewards, policy_name):\n",
        "    plt.plot(np.cumsum(rewards))\n",
        "    plt.xlabel('Episode')\n",
        "    plt.ylabel('Cumulative Rewards')\n",
        "    plt.title(f'{policy_name} Policy')\n",
        "    plt.show()"
      ],
      "outputs": [],
      "execution_count": 5,
      "metadata": {},
      "id": "0d10fd28"
    },
    {
      "cell_type": "code",
      "source": [
        "# Run Theta policy and plot results.\n",
        "theta_rewards = run_policy(theta_policy)\n",
        "\n",
        "# Plot cumulative rewards.\n",
        "plot_rewards(theta_rewards, 'Theta')\n",
        "plot_rewards(omega_rewards, 'Omega')\n",
        "\n",
        "# Print average rewards with standard deviation.\n",
        "print(f'Theta Policy: Average Reward = {np.mean(theta_rewards)}, Standard Deviation = {np.std(theta_rewards)}')"
      ],
      "outputs": [
        {
          "output_type": "stream",
          "name": "stderr",
          "text": "D:\\Downloads\\ANACONDA\\lib\\site-packages\\gym\\envs\\registration.py:555: UserWarning: \u001b[33mWARN: The environment CartPole-v0 is out of date. You should consider upgrading to version `v1`.\u001b[0m\n  logger.warn(\n"
        },
        {
          "output_type": "display_data",
          "data": {
            "image/png": "[encoded data removed]",
            "text/plain": "<Figure size 432x288 with 1 Axes>"
          },
          "metadata": {
            "needs_background": "light"
          }
        },
        {
          "output_type": "error",
          "ename": "NameError",
          "evalue": "name 'omega_rewards' is not defined",
          "traceback": [
            "\u001b[1;31m---------------------------------------------------------------------------\u001b[0m",
            "\u001b[1;31mNameError\u001b[0m                                 Traceback (most recent call last)",
            "Input \u001b[1;32mIn [6]\u001b[0m, in \u001b[0;36m<cell line: 6>\u001b[1;34m()\u001b[0m\n\u001b[0;32m      4\u001b[0m \u001b[38;5;66;03m# Plot cumulative rewards.\u001b[39;00m\n\u001b[0;32m      5\u001b[0m plot_rewards(theta_rewards, \u001b[38;5;124m'\u001b[39m\u001b[38;5;124mTheta\u001b[39m\u001b[38;5;124m'\u001b[39m)\n\u001b[1;32m----> 6\u001b[0m plot_rewards(\u001b[43momega_rewards\u001b[49m, \u001b[38;5;124m'\u001b[39m\u001b[38;5;124mOmega\u001b[39m\u001b[38;5;124m'\u001b[39m)\n\u001b[0;32m      8\u001b[0m \u001b[38;5;66;03m# Print average rewards with standard deviation.\u001b[39;00m\n\u001b[0;32m      9\u001b[0m \u001b[38;5;28mprint\u001b[39m(\u001b[38;5;124mf\u001b[39m\u001b[38;5;124m'\u001b[39m\u001b[38;5;124mTheta Policy: Average Reward = \u001b[39m\u001b[38;5;132;01m{\u001b[39;00mnp\u001b[38;5;241m.\u001b[39mmean(theta_rewards)\u001b[38;5;132;01m}\u001b[39;00m\u001b[38;5;124m, Standard Deviation = \u001b[39m\u001b[38;5;132;01m{\u001b[39;00mnp\u001b[38;5;241m.\u001b[39mstd(theta_rewards)\u001b[38;5;132;01m}\u001b[39;00m\u001b[38;5;124m'\u001b[39m)\n",
            "\u001b[1;31mNameError\u001b[0m: name 'omega_rewards' is not defined"
          ]
        }
      ],
      "execution_count": 6,
      "metadata": {},
      "id": "58753be3"
    },
    {
      "cell_type": "code",
      "source": [
        "# Run Omega policy and plot results.\n",
        "omega_rewards = run_policy(omega_policy)\n",
        "\n",
        "# Plot cumulative rewards.\n",
        "plot_rewards(omega_rewards, 'Omega')\n",
        "\n",
        "# Print average rewards with standard deviation.\n",
        "print(f'Omega Policy: Average Reward = {np.mean(omega_rewards)}, Standard Deviation = {np.std(omega_rewards)}')"
      ],
      "outputs": [
        {
          "output_type": "stream",
          "name": "stderr",
          "text": "D:\\Downloads\\ANACONDA\\lib\\site-packages\\gym\\envs\\registration.py:555: UserWarning: \u001b[33mWARN: The environment CartPole-v0 is out of date. You should consider upgrading to version `v1`.\u001b[0m\n  logger.warn(\n"
        },
        {
          "output_type": "display_data",
          "data": {
            "image/png": "[encoded data removed]",
            "text/plain": "<Figure size 432x288 with 1 Axes>"
          },
          "metadata": {
            "needs_background": "light"
          }
        },
        {
          "output_type": "stream",
          "name": "stdout",
          "text": "Omega Policy: Average Reward = 198.73, Standard Deviation = 41.04749809671717\n"
        }
      ],
      "execution_count": 7,
      "metadata": {},
      "id": "9fc906a5"
    }
  ],
  "metadata": {
    "kernelspec": {
      "name": "python",
      "language": "python",
      "display_name": "Pyolite (preview)"
    },
    "language_info": {
      "codemirror_mode": {
        "name": "python",
        "version": 3
      },
      "file_extension": ".py",
      "mimetype": "text/x-python",
      "name": "python",
      "nbconvert_exporter": "python",
      "pygments_lexer": "ipython3",
      "version": "3.8"
    },
    "kernel_info": {
      "name": "python"
    },
    "nteract": {
      "version": "nteract-front-end@1.0.0"
    }
  },
  "nbformat": 4,
  "nbformat_minor": 5
}