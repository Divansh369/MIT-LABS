{
  "cells": [
    {
      "cell_type": "markdown",
      "source": [
        "# AI LAB WEEK-1 Divansh Prasad (210968140)"
      ],
      "metadata": {},
      "id": "c1c2a59a"
    },
    {
      "cell_type": "markdown",
      "source": [
        "# Exercises \n",
        "## 1. Take the tutorials: \n",
        "a. Getting Started With OpenAI Gym: \\\n",
        "https://www.gymlibrary.dev/content/tutorials/ \\\n",
        "b. The Basic Building Blocks: \\\n",
        "https://blog.paperspace.com/getting-started-with-openai-gym/ \n",
        "## 2. Use the CartPole-v0 environment and write a program to :\n",
        "a. Implement the CartPole environment for a certain number of steps. \\\n",
        "b. Implement the CartPole environment for a certain number of episodes. \\\n",
        "c. Compare and comment on the rewards earned for both approaches. \\\n",
        "d. Plot the cumulative reward of the games and note down the results. "
      ],
      "metadata": {},
      "id": "1f6e7fae"
    },
    {
      "cell_type": "markdown",
      "source": [
        "## Exercise 1 \n",
        "### Tutorials completed!"
      ],
      "metadata": {},
      "id": "4b5ad6d3"
    },
    {
      "cell_type": "markdown",
      "source": [
        "## Exercise 2\n",
        "### Creating a CartPole Environment"
      ],
      "metadata": {},
      "id": "e2e0b254"
    },
    {
      "cell_type": "code",
      "source": [
        "# Importing necessary libraries\n",
        "import gym\n",
        "import matplotlib.pyplot as plt\n",
        "import numpy as np"
      ],
      "outputs": [],
      "execution_count": 38,
      "metadata": {},
      "id": "a8c33087"
    },
    {
      "cell_type": "code",
      "source": [
        "# Creating CartPole environment\n",
        "env = gym.make('CartPole-v1',render_mode=\"rgb_array\") #v0 is out of date.\n",
        "\n",
        "# Reset the environment\n",
        "observation = env.reset()"
      ],
      "outputs": [],
      "execution_count": 39,
      "metadata": {},
      "id": "35617fb0"
    },
    {
      "cell_type": "markdown",
      "source": [
        "### a. Implement the CartPole environment for a certain number of steps."
      ],
      "metadata": {},
      "id": "d85db952"
    },
    {
      "cell_type": "code",
      "source": [
        "def run_cartpole_steps(num_steps):\n",
        "    env = gym.make('CartPole-v1', render_mode=\"rgb_array\")\n",
        "    observation = env.reset()\n",
        "    total_reward = 0\n",
        "\n",
        "    for _ in range(num_steps):\n",
        "        env.render()\n",
        "        action = env.action_space.sample()\n",
        "        observation, reward, done, _, x = env.step(action)\n",
        "        total_reward += reward\n",
        "\n",
        "        if done:\n",
        "            break\n",
        "\n",
        "    env.close()\n",
        "    return total_reward"
      ],
      "outputs": [],
      "execution_count": 41,
      "metadata": {},
      "id": "2efff7c6"
    },
    {
      "cell_type": "markdown",
      "source": [
        "### b. Implement the CartPole environment for a certain number of episodes."
      ],
      "metadata": {},
      "id": "0ef59a4a"
    },
    {
      "cell_type": "code",
      "source": [
        "def run_cartpole_episodes(num_episodes):\n",
        "    env = gym.make('CartPole-v1', render_mode=\"rgb_array\")\n",
        "    total_rewards = []\n",
        "\n",
        "    for _ in range(num_episodes):\n",
        "        observation = env.reset()\n",
        "        episode_reward = 0\n",
        "\n",
        "        while True:\n",
        "            env.render()\n",
        "            action = env.action_space.sample()\n",
        "            observation, reward, done, _, x = env.step(action)\n",
        "            episode_reward += reward\n",
        "\n",
        "            if done:\n",
        "                total_rewards.append(episode_reward)\n",
        "                break\n",
        "\n",
        "    env.close()\n",
        "    return total_rewards"
      ],
      "outputs": [],
      "execution_count": 42,
      "metadata": {},
      "id": "1d101f9a"
    },
    {
      "cell_type": "markdown",
      "source": [
        "### c. Compare and comment on the rewards earned for both approaches."
      ],
      "metadata": {},
      "id": "53110e64"
    },
    {
      "cell_type": "code",
      "source": [
        "# Input number of steps and number of episodes from user\n",
        "\n",
        "num_steps=int(input(\"Enter number of steps: \"))\n",
        "num_episodes=int(input(\"Enter number of episodes: \"))\n",
        "\n",
        "# Run CartPole environment for specified steps and episodes\n",
        "total_reward_steps = run_cartpole_steps(num_steps)\n",
        "total_rewards_episodes = run_cartpole_episodes(num_episodes)\n",
        "\n",
        "# Compare rewards earned for both approaches\n",
        "print()\n",
        "print(f\"Total reward for {num_steps} step(s): {total_reward_steps}\")\n",
        "print(f\"Mean reward for {num_episodes} episode(s): {sum(total_rewards_episodes)/len(total_rewards_episodes)}\")"
      ],
      "outputs": [
        {
          "output_type": "stream",
          "name": "stdout",
          "text": "Enter number of steps: 100\nEnter number of episodes: 10\n\nTotal reward for 100 step(s): 17.0\nMean reward for 10 episode(s): 17.5\n"
        }
      ],
      "execution_count": 43,
      "metadata": {},
      "id": "ccdf02af"
    },
    {
      "cell_type": "markdown",
      "source": [
        "Episodes earns greater reward than steps in almost all cases. "
      ],
      "metadata": {},
      "id": "0dbe32de"
    },
    {
      "cell_type": "markdown",
      "source": [
        "### d. Plot the cumulative reward of the games and note down the results. "
      ],
      "metadata": {},
      "id": "2e9d0918"
    },
    {
      "cell_type": "code",
      "source": [
        "# Reward per Step Graph\n",
        "plt.plot(range(1, num_steps+1), np.repeat(total_reward_steps, len(range(1, num_steps+1))))\n",
        "plt.xlabel('Steps')\n",
        "plt.ylabel('Cumulative Reward')\n",
        "plt.title('Cumulative Reward of CartPole Games (Steps)')\n",
        "plt.show()"
      ],
      "outputs": [
        {
          "output_type": "display_data",
          "data": {
            "image/png": "[encoded data removed]",
            "text/plain": "<Figure size 432x288 with 1 Axes>"
          },
          "metadata": {
            "needs_background": "light"
          }
        }
      ],
      "execution_count": 47,
      "metadata": {},
      "id": "5ba6ded1"
    },
    {
      "cell_type": "code",
      "source": [
        "# Reward per Episode Graph \n",
        "plt.plot(range(1, num_episodes+1), total_rewards_episodes)\n",
        "plt.xlabel('Episodes')\n",
        "plt.ylabel('Cumulative Reward')\n",
        "plt.title('Cumulative Reward of CartPole Games (Episodes)')\n",
        "plt.show()"
      ],
      "outputs": [
        {
          "output_type": "display_data",
          "data": {
            "image/png": "[encoded data removed]",
            "text/plain": "<Figure size 432x288 with 1 Axes>"
          },
          "metadata": {
            "needs_background": "light"
          }
        }
      ],
      "execution_count": 46,
      "metadata": {},
      "id": "0163c37f"
    },
    {
      "cell_type": "markdown",
      "source": [
        "Steps has a constant graph => Same reward per step. \\\n",
        "Episodes has a fluctuating graph => Different reward per episode."
      ],
      "metadata": {},
      "id": "13d34caf"
    }
  ],
  "metadata": {
    "kernelspec": {
      "name": "python",
      "language": "python",
      "display_name": "Pyolite (preview)"
    },
    "language_info": {
      "codemirror_mode": {
        "name": "python",
        "version": 3
      },
      "file_extension": ".py",
      "mimetype": "text/x-python",
      "name": "python",
      "nbconvert_exporter": "python",
      "pygments_lexer": "ipython3",
      "version": "3.8"
    },
    "kernel_info": {
      "name": "python"
    },
    "nteract": {
      "version": "nteract-front-end@1.0.0"
    }
  },
  "nbformat": 4,
  "nbformat_minor": 5
}